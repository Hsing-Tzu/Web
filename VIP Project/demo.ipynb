{
 "cells": [
  {
   "cell_type": "code",
   "execution_count": 1,
   "id": "9ef70097",
   "metadata": {},
   "outputs": [],
   "source": [
    "import googlemaps\n",
    "import folium\n",
    "from bs4 import BeautifulSoup\n",
    "\n",
    "api_key = \"your_api_key\"\n",
    "gmaps = googlemaps.Client(key=api_key)\n",
    "\n",
    "taipei_address = \"No. 7, Section 5, Xinyi Road, Xinyi District, Taipei, Taiwan\"\n",
    "address = \"162, Section 1, Heping E. Rd., Taipei, Taiwan\"\n",
    "\n",
    "# Calculate a route to cover the specified distance and return to the start point\n",
    "directions_result = gmaps.directions(\n",
    "    taipei_address,\n",
    "    address,\n",
    "    mode=\"walking\",\n",
    "    waypoints=[],\n",
    "    units=\"metric\",\n",
    "    region=\"TW\"\n",
    ")\n",
    "\n",
    "# Create a folium map centered around the starting location\n",
    "map_center = gmaps.geocode(taipei_address)[0]['geometry']['location']\n",
    "my_map = folium.Map(location=[map_center['lat'], map_center['lng']], zoom_start=15)\n",
    "\n",
    "# Add markers for the starting and ending points\n",
    "folium.Marker([directions_result[0]['legs'][0]['start_location']['lat'], directions_result[0]['legs'][0]['start_location']['lng']],\n",
    "              popup='Start').add_to(my_map)\n",
    "folium.Marker([directions_result[0]['legs'][0]['end_location']['lat'], directions_result[0]['legs'][0]['end_location']['lng']],\n",
    "              popup='End').add_to(my_map)\n",
    "\n",
    "# Plot the route on the map\n",
    "for leg in directions_result[0]['legs']:\n",
    "    for step in leg['steps']:\n",
    "        polyline = step['polyline']['points']\n",
    "        decoded_polyline = googlemaps.convert.decode_polyline(polyline)\n",
    "        \n",
    "        # Convert the decoded polyline to list of tuples\n",
    "        coordinates = [(point['lat'], point['lng']) for point in decoded_polyline]\n",
    "        \n",
    "        # Add PolyLine to the map\n",
    "        folium.PolyLine(locations=coordinates, color='blue').add_to(my_map)\n",
    "\n",
    "# Save the map as an HTML file\n",
    "my_map.save(\"route_map.html\")\n"
   ]
  },
  {
   "cell_type": "code",
   "execution_count": null,
   "id": "9dc36a23",
   "metadata": {},
   "outputs": [],
   "source": []
  }
 ],
 "metadata": {
  "kernelspec": {
   "display_name": "Python 3 (ipykernel)",
   "language": "python",
   "name": "python3"
  },
  "language_info": {
   "codemirror_mode": {
    "name": "ipython",
    "version": 3
   },
   "file_extension": ".py",
   "mimetype": "text/x-python",
   "name": "python",
   "nbconvert_exporter": "python",
   "pygments_lexer": "ipython3",
   "version": "3.11.5"
  }
 },
 "nbformat": 4,
 "nbformat_minor": 5
}
